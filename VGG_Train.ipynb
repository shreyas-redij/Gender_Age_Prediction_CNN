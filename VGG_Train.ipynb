{
 "cells": [
  {
   "cell_type": "markdown",
   "metadata": {
    "id": "_5dx4x5HcisT"
   },
   "source": [
    "**Importing Necessary Libraries**\n"
   ]
  },
  {
   "cell_type": "code",
   "execution_count": 22,
   "metadata": {
    "executionInfo": {
     "elapsed": 561,
     "status": "ok",
     "timestamp": 1604889448697,
     "user": {
      "displayName": "Abhishek Bhagwat",
      "photoUrl": "https://lh3.googleusercontent.com/a-/AOh14Gg9PlmmIXBaYSo9I4g0o1V5ErKNm4H79fHE5-SjCw=s64",
      "userId": "03466854914645471807"
     },
     "user_tz": 300
    },
    "id": "PeSjiDQGek0T"
   },
   "outputs": [],
   "source": [
    "import scipy.io\n",
    "import numpy as np\n",
    "import pandas as pd\n",
    "from datetime import datetime, timedelta\n",
    "import random\n",
    "import h5py\n",
    "\n",
    "import tensorflow as tf\n",
    "\n",
    "import keras\n",
    "from keras.preprocessing import image\n",
    "from keras.callbacks import ModelCheckpoint,EarlyStopping\n",
    "from keras.layers import Dense, Activation, Dropout, Flatten, Input, Convolution2D, ZeroPadding2D, MaxPooling2D, Activation\n",
    "from keras.layers import Conv2D, AveragePooling2D\n",
    "from keras.models import Model, Sequential\n",
    "\n",
    "from sklearn.model_selection import train_test_split\n",
    "from keras.callbacks import ModelCheckpoint\n",
    "\n",
    "\n",
    "from keras import metrics\n",
    "\n",
    "from keras.models import model_from_json\n",
    "import matplotlib.pyplot as plt"
   ]
  },
  {
   "cell_type": "markdown",
   "metadata": {
    "id": "z6B5GXmSr3ta"
   },
   "source": [
    " \n",
    "\n",
    "\n",
    "**Mounting Google Drive to read Model weights and Data**"
   ]
  },
  {
   "cell_type": "code",
   "execution_count": 23,
   "metadata": {
    "colab": {
     "base_uri": "https://localhost:8080/"
    },
    "executionInfo": {
     "elapsed": 557,
     "status": "ok",
     "timestamp": 1604889448705,
     "user": {
      "displayName": "Abhishek Bhagwat",
      "photoUrl": "https://lh3.googleusercontent.com/a-/AOh14Gg9PlmmIXBaYSo9I4g0o1V5ErKNm4H79fHE5-SjCw=s64",
      "userId": "03466854914645471807"
     },
     "user_tz": 300
    },
    "id": "O1Ic3IsssRb-",
    "outputId": "2f0a103c-353d-415c-eaf0-f81ced122b6d"
   },
   "outputs": [
    {
     "name": "stdout",
     "output_type": "stream",
     "text": [
      "Drive already mounted at /content/drive; to attempt to forcibly remount, call drive.mount(\"/content/drive\", force_remount=True).\n"
     ]
    }
   ],
   "source": [
    "from google.colab import drive\n",
    "drive.mount('/content/drive')"
   ]
  },
  {
   "cell_type": "code",
   "execution_count": 24,
   "metadata": {
    "colab": {
     "base_uri": "https://localhost:8080/"
    },
    "executionInfo": {
     "elapsed": 701,
     "status": "ok",
     "timestamp": 1604889448857,
     "user": {
      "displayName": "Abhishek Bhagwat",
      "photoUrl": "https://lh3.googleusercontent.com/a-/AOh14Gg9PlmmIXBaYSo9I4g0o1V5ErKNm4H79fHE5-SjCw=s64",
      "userId": "03466854914645471807"
     },
     "user_tz": 300
    },
    "id": "NpWnK3AyRVKo",
    "outputId": "3ed57b29-0416-4736-b42f-9f6ab8fdd66e"
   },
   "outputs": [
    {
     "name": "stdout",
     "output_type": "stream",
     "text": [
      "adience_1.h5\t\tgirl.jpg\tvgg_face_weights.h5\n",
      "Collab_AgeGender.ipynb\tkurt_angle.jpg\n"
     ]
    }
   ],
   "source": [
    "!ls '/content/drive/My Drive/Age_Prediction'\n"
   ]
  },
  {
   "cell_type": "markdown",
   "metadata": {
    "id": "AM4Ex5HxlDJr"
   },
   "source": [
    "**Defining the Model**"
   ]
  },
  {
   "cell_type": "code",
   "execution_count": 25,
   "metadata": {
    "executionInfo": {
     "elapsed": 1052,
     "status": "ok",
     "timestamp": 1604889449214,
     "user": {
      "displayName": "Abhishek Bhagwat",
      "photoUrl": "https://lh3.googleusercontent.com/a-/AOh14Gg9PlmmIXBaYSo9I4g0o1V5ErKNm4H79fHE5-SjCw=s64",
      "userId": "03466854914645471807"
     },
     "user_tz": 300
    },
    "id": "mZndSGmtJyR-"
   },
   "outputs": [],
   "source": [
    "#VGG-Face model\n",
    "model = Sequential()\n",
    "model.add(ZeroPadding2D((1,1),input_shape=(227,227, 3)))\n",
    "model.add(Convolution2D(64, (3, 3), activation='relu'))\n",
    "model.add(ZeroPadding2D((1,1)))\n",
    "model.add(Convolution2D(64, (3, 3), activation='relu'))\n",
    "model.add(MaxPooling2D((2,2), strides=(2,2)))\n",
    " \n",
    "model.add(ZeroPadding2D((1,1)))\n",
    "model.add(Convolution2D(128, (3, 3), activation='relu'))\n",
    "model.add(ZeroPadding2D((1,1)))\n",
    "model.add(Convolution2D(128, (3, 3), activation='relu'))\n",
    "model.add(MaxPooling2D((2,2), strides=(2,2)))\n",
    " \n",
    "model.add(ZeroPadding2D((1,1)))\n",
    "model.add(Convolution2D(256, (3, 3), activation='relu'))\n",
    "model.add(ZeroPadding2D((1,1)))\n",
    "model.add(Convolution2D(256, (3, 3), activation='relu'))\n",
    "model.add(ZeroPadding2D((1,1)))\n",
    "model.add(Convolution2D(256, (3, 3), activation='relu'))\n",
    "model.add(MaxPooling2D((2,2), strides=(2,2)))\n",
    " \n",
    "model.add(ZeroPadding2D((1,1)))\n",
    "model.add(Convolution2D(512, (3, 3), activation='relu'))\n",
    "model.add(ZeroPadding2D((1,1)))\n",
    "model.add(Convolution2D(512, (3, 3), activation='relu'))\n",
    "model.add(ZeroPadding2D((1,1)))\n",
    "model.add(Convolution2D(512, (3, 3), activation='relu'))\n",
    "model.add(MaxPooling2D((2,2), strides=(2,2)))\n",
    " \n",
    "model.add(ZeroPadding2D((1,1)))\n",
    "model.add(Convolution2D(512, (3, 3), activation='relu'))\n",
    "model.add(ZeroPadding2D((1,1)))\n",
    "model.add(Convolution2D(512, (3, 3), activation='relu'))\n",
    "model.add(ZeroPadding2D((1,1)))\n",
    "model.add(Convolution2D(512, (3, 3), activation='relu'))\n",
    "model.add(MaxPooling2D((2,2), strides=(2,2)))\n",
    " \n",
    "model.add(Convolution2D(4096, (7, 7), activation='relu'))\n",
    "model.add(Dropout(0.5))\n",
    "model.add(Convolution2D(4096, (1, 1), activation='relu'))\n",
    "model.add(Dropout(0.5))\n",
    "model.add(Convolution2D(2622, (1, 1)))\n",
    "model.add(Flatten())\n",
    "model.add(Activation('softmax'))"
   ]
  },
  {
   "cell_type": "code",
   "execution_count": 26,
   "metadata": {
    "colab": {
     "base_uri": "https://localhost:8080/"
    },
    "executionInfo": {
     "elapsed": 2350,
     "status": "ok",
     "timestamp": 1604889450518,
     "user": {
      "displayName": "Abhishek Bhagwat",
      "photoUrl": "https://lh3.googleusercontent.com/a-/AOh14Gg9PlmmIXBaYSo9I4g0o1V5ErKNm4H79fHE5-SjCw=s64",
      "userId": "03466854914645471807"
     },
     "user_tz": 300
    },
    "id": "6qmYhmvPqoNs",
    "outputId": "8d256ca5-231c-4838-a54c-33a700ae7182"
   },
   "outputs": [
    {
     "name": "stdout",
     "output_type": "stream",
     "text": [
      "Model: \"sequential_5\"\n",
      "_________________________________________________________________\n",
      "Layer (type)                 Output Shape              Param #   \n",
      "=================================================================\n",
      "zero_padding2d_39 (ZeroPaddi (None, 229, 229, 3)       0         \n",
      "_________________________________________________________________\n",
      "conv2d_48 (Conv2D)           (None, 227, 227, 64)      1792      \n",
      "_________________________________________________________________\n",
      "zero_padding2d_40 (ZeroPaddi (None, 229, 229, 64)      0         \n",
      "_________________________________________________________________\n",
      "conv2d_49 (Conv2D)           (None, 227, 227, 64)      36928     \n",
      "_________________________________________________________________\n",
      "max_pooling2d_15 (MaxPooling (None, 113, 113, 64)      0         \n",
      "_________________________________________________________________\n",
      "zero_padding2d_41 (ZeroPaddi (None, 115, 115, 64)      0         \n",
      "_________________________________________________________________\n",
      "conv2d_50 (Conv2D)           (None, 113, 113, 128)     73856     \n",
      "_________________________________________________________________\n",
      "zero_padding2d_42 (ZeroPaddi (None, 115, 115, 128)     0         \n",
      "_________________________________________________________________\n",
      "conv2d_51 (Conv2D)           (None, 113, 113, 128)     147584    \n",
      "_________________________________________________________________\n",
      "max_pooling2d_16 (MaxPooling (None, 56, 56, 128)       0         \n",
      "_________________________________________________________________\n",
      "zero_padding2d_43 (ZeroPaddi (None, 58, 58, 128)       0         \n",
      "_________________________________________________________________\n",
      "conv2d_52 (Conv2D)           (None, 56, 56, 256)       295168    \n",
      "_________________________________________________________________\n",
      "zero_padding2d_44 (ZeroPaddi (None, 58, 58, 256)       0         \n",
      "_________________________________________________________________\n",
      "conv2d_53 (Conv2D)           (None, 56, 56, 256)       590080    \n",
      "_________________________________________________________________\n",
      "zero_padding2d_45 (ZeroPaddi (None, 58, 58, 256)       0         \n",
      "_________________________________________________________________\n",
      "conv2d_54 (Conv2D)           (None, 56, 56, 256)       590080    \n",
      "_________________________________________________________________\n",
      "max_pooling2d_17 (MaxPooling (None, 28, 28, 256)       0         \n",
      "_________________________________________________________________\n",
      "zero_padding2d_46 (ZeroPaddi (None, 30, 30, 256)       0         \n",
      "_________________________________________________________________\n",
      "conv2d_55 (Conv2D)           (None, 28, 28, 512)       1180160   \n",
      "_________________________________________________________________\n",
      "zero_padding2d_47 (ZeroPaddi (None, 30, 30, 512)       0         \n",
      "_________________________________________________________________\n",
      "conv2d_56 (Conv2D)           (None, 28, 28, 512)       2359808   \n",
      "_________________________________________________________________\n",
      "zero_padding2d_48 (ZeroPaddi (None, 30, 30, 512)       0         \n",
      "_________________________________________________________________\n",
      "conv2d_57 (Conv2D)           (None, 28, 28, 512)       2359808   \n",
      "_________________________________________________________________\n",
      "max_pooling2d_18 (MaxPooling (None, 14, 14, 512)       0         \n",
      "_________________________________________________________________\n",
      "zero_padding2d_49 (ZeroPaddi (None, 16, 16, 512)       0         \n",
      "_________________________________________________________________\n",
      "conv2d_58 (Conv2D)           (None, 14, 14, 512)       2359808   \n",
      "_________________________________________________________________\n",
      "zero_padding2d_50 (ZeroPaddi (None, 16, 16, 512)       0         \n",
      "_________________________________________________________________\n",
      "conv2d_59 (Conv2D)           (None, 14, 14, 512)       2359808   \n",
      "_________________________________________________________________\n",
      "zero_padding2d_51 (ZeroPaddi (None, 16, 16, 512)       0         \n",
      "_________________________________________________________________\n",
      "conv2d_60 (Conv2D)           (None, 14, 14, 512)       2359808   \n",
      "_________________________________________________________________\n",
      "max_pooling2d_19 (MaxPooling (None, 7, 7, 512)         0         \n",
      "_________________________________________________________________\n",
      "conv2d_61 (Conv2D)           (None, 1, 1, 4096)        102764544 \n",
      "_________________________________________________________________\n",
      "dropout_6 (Dropout)          (None, 1, 1, 4096)        0         \n",
      "_________________________________________________________________\n",
      "conv2d_62 (Conv2D)           (None, 1, 1, 4096)        16781312  \n",
      "_________________________________________________________________\n",
      "dropout_7 (Dropout)          (None, 1, 1, 4096)        0         \n",
      "_________________________________________________________________\n",
      "conv2d_63 (Conv2D)           (None, 1, 1, 2622)        10742334  \n",
      "_________________________________________________________________\n",
      "flatten_4 (Flatten)          (None, 2622)              0         \n",
      "_________________________________________________________________\n",
      "activation_4 (Activation)    (None, 2622)              0         \n",
      "=================================================================\n",
      "Total params: 145,002,878\n",
      "Trainable params: 145,002,878\n",
      "Non-trainable params: 0\n",
      "_________________________________________________________________\n"
     ]
    }
   ],
   "source": [
    "# Checking out the model \n",
    "model.summary()"
   ]
  },
  {
   "cell_type": "markdown",
   "metadata": {
    "id": "2jDUq61PngUa"
   },
   "source": [
    "**Loading pretrained VGG model weights from the directory**"
   ]
  },
  {
   "cell_type": "code",
   "execution_count": 27,
   "metadata": {
    "executionInfo": {
     "elapsed": 8554,
     "status": "ok",
     "timestamp": 1604889456730,
     "user": {
      "displayName": "Abhishek Bhagwat",
      "photoUrl": "https://lh3.googleusercontent.com/a-/AOh14Gg9PlmmIXBaYSo9I4g0o1V5ErKNm4H79fHE5-SjCw=s64",
      "userId": "03466854914645471807"
     },
     "user_tz": 300
    },
    "id": "TvS7fKAVJ23p"
   },
   "outputs": [],
   "source": [
    "model.load_weights('/content/drive/My Drive/Age_Prediction/vgg_face_weights.h5')"
   ]
  },
  {
   "cell_type": "code",
   "execution_count": 28,
   "metadata": {
    "colab": {
     "base_uri": "https://localhost:8080/"
    },
    "executionInfo": {
     "elapsed": 8553,
     "status": "ok",
     "timestamp": 1604889456734,
     "user": {
      "displayName": "Abhishek Bhagwat",
      "photoUrl": "https://lh3.googleusercontent.com/a-/AOh14Gg9PlmmIXBaYSo9I4g0o1V5ErKNm4H79fHE5-SjCw=s64",
      "userId": "03466854914645471807"
     },
     "user_tz": 300
    },
    "id": "kiNzxU6dJ7gH",
    "outputId": "55ce746c-86da-4ed0-8c6b-b3e1e21d28c2"
   },
   "outputs": [
    {
     "name": "stdout",
     "output_type": "stream",
     "text": [
      "number of output classes:  2\n"
     ]
    }
   ],
   "source": [
    "classes = 2 #man woman\n",
    "print(\"number of output classes: \",classes)"
   ]
  },
  {
   "cell_type": "code",
   "execution_count": 34,
   "metadata": {
    "executionInfo": {
     "elapsed": 438,
     "status": "ok",
     "timestamp": 1604890760669,
     "user": {
      "displayName": "Abhishek Bhagwat",
      "photoUrl": "https://lh3.googleusercontent.com/a-/AOh14Gg9PlmmIXBaYSo9I4g0o1V5ErKNm4H79fHE5-SjCw=s64",
      "userId": "03466854914645471807"
     },
     "user_tz": 300
    },
    "id": "2twCJa97KD28"
   },
   "outputs": [],
   "source": [
    "#freeze all layers of VGG-Face except last 7 one\n",
    "for layer in model.layers[:-7]:\n",
    "    layer.trainable = False\n",
    "\n",
    "base_model_output = Sequential()\n",
    "base_model_output = Convolution2D(classes, (1, 1), name='predictions')(model.layers[-4].output)\n",
    "base_model_output = Flatten()(base_model_output)\n",
    "base_model_output = Activation('softmax')(base_model_output)\n",
    "\n",
    "gender_model = Model(inputs=model.input, outputs=base_model_output)"
   ]
  },
  {
   "cell_type": "code",
   "execution_count": 35,
   "metadata": {
    "executionInfo": {
     "elapsed": 359,
     "status": "ok",
     "timestamp": 1604890764926,
     "user": {
      "displayName": "Abhishek Bhagwat",
      "photoUrl": "https://lh3.googleusercontent.com/a-/AOh14Gg9PlmmIXBaYSo9I4g0o1V5ErKNm4H79fHE5-SjCw=s64",
      "userId": "03466854914645471807"
     },
     "user_tz": 300
    },
    "id": "tXF_CfMjKQFF"
   },
   "outputs": [],
   "source": [
    "sgd = keras.optimizers.SGD(lr=1e-3, decay=1e-6, momentum=0.9, nesterov=True)\n",
    "\n",
    "gender_model.compile(loss='categorical_crossentropy'\n",
    "                  , optimizer=keras.optimizers.Adam()\n",
    "                  #, optimizer = sgd\n",
    "                  , metrics=['accuracy']\n",
    "                 )"
   ]
  },
  {
   "cell_type": "markdown",
   "metadata": {
    "id": "ERD3NEwrlhK7"
   },
   "source": [
    "**Reading training data from H5 serialized object and creating a train test split**"
   ]
  },
  {
   "cell_type": "code",
   "execution_count": 31,
   "metadata": {
    "colab": {
     "base_uri": "https://localhost:8080/"
    },
    "executionInfo": {
     "elapsed": 71040,
     "status": "ok",
     "timestamp": 1604889519243,
     "user": {
      "displayName": "Abhishek Bhagwat",
      "photoUrl": "https://lh3.googleusercontent.com/a-/AOh14Gg9PlmmIXBaYSo9I4g0o1V5ErKNm4H79fHE5-SjCw=s64",
      "userId": "03466854914645471807"
     },
     "user_tz": 300
    },
    "id": "sApOBskTKatg",
    "outputId": "38584bba-fab6-4d89-cac9-ac8516ff1df8"
   },
   "outputs": [
    {
     "name": "stdout",
     "output_type": "stream",
     "text": [
      "<KeysViewHDF5 ['x_test', 'x_train', 'y_test_gender', 'y_train_gender']>\n"
     ]
    },
    {
     "name": "stderr",
     "output_type": "stream",
     "text": [
      "/usr/local/lib/python3.6/dist-packages/ipykernel_launcher.py:7: H5pyDeprecationWarning: dataset.value has been deprecated. Use dataset[()] instead.\n",
      "  import sys\n",
      "/usr/local/lib/python3.6/dist-packages/ipykernel_launcher.py:8: H5pyDeprecationWarning: dataset.value has been deprecated. Use dataset[()] instead.\n",
      "  \n",
      "/usr/local/lib/python3.6/dist-packages/ipykernel_launcher.py:9: H5pyDeprecationWarning: dataset.value has been deprecated. Use dataset[()] instead.\n",
      "  if __name__ == '__main__':\n"
     ]
    },
    {
     "name": "stdout",
     "output_type": "stream",
     "text": [
      "226\n",
      "4288\n",
      "226\n",
      "4288\n"
     ]
    },
    {
     "name": "stderr",
     "output_type": "stream",
     "text": [
      "/usr/local/lib/python3.6/dist-packages/ipykernel_launcher.py:10: H5pyDeprecationWarning: dataset.value has been deprecated. Use dataset[()] instead.\n",
      "  # Remove the CWD from sys.path while we load stuff.\n"
     ]
    }
   ],
   "source": [
    "\n",
    "dataset_file=\"/content/drive/My Drive/Age_Prediction/adience_1.h5\"\n",
    "folder_to_test=1\n",
    "with h5py.File(dataset_file, 'r') as hf:\n",
    "        print(hf.keys())\n",
    "        \n",
    "        print(len(hf['y_test_gender'].value))\n",
    "        print(len(hf['y_train_gender'].value))\n",
    "        print(len(hf['x_test'].value))\n",
    "        print(len(hf['x_train'].value))\n",
    "        #break\n",
    "        train_x = np.array(hf.get(\"x_train\"), dtype=np.float32)\n",
    "        test_x = np.array(hf.get(\"x_test\"), dtype=np.float32)\n",
    "        train_y = np.array(hf.get(\"y_train_gender\"), dtype=np.uint8)\n",
    "        test_y = np.array(hf.get(\"y_test_gender\"), dtype=np.uint8)\n",
    "        \n",
    "        \n",
    "#         train_x = hf['x_train'].value.astype(np.uint8)\n",
    "#         test_x = hf['x_test'].value.astype(np.uint8)\n",
    "#         train_y = hf['y_train_gender'].value.astype(np.uint8)\n",
    "#         test_y = hf['y_test_gender'].value.astype(np.uint8)\n",
    "        \n"
   ]
  },
  {
   "cell_type": "code",
   "execution_count": 32,
   "metadata": {
    "colab": {
     "base_uri": "https://localhost:8080/"
    },
    "executionInfo": {
     "elapsed": 71032,
     "status": "ok",
     "timestamp": 1604889519244,
     "user": {
      "displayName": "Abhishek Bhagwat",
      "photoUrl": "https://lh3.googleusercontent.com/a-/AOh14Gg9PlmmIXBaYSo9I4g0o1V5ErKNm4H79fHE5-SjCw=s64",
      "userId": "03466854914645471807"
     },
     "user_tz": 300
    },
    "id": "j28MIigsKd8M",
    "outputId": "67c8b55d-6e89-4c86-8263-583792e24871"
   },
   "outputs": [
    {
     "data": {
      "text/plain": [
       "array([[1., 0.],\n",
       "       [1., 0.],\n",
       "       [0., 1.],\n",
       "       ...,\n",
       "       [1., 0.],\n",
       "       [0., 1.],\n",
       "       [0., 1.]], dtype=float32)"
      ]
     },
     "execution_count": 32,
     "metadata": {
      "tags": []
     },
     "output_type": "execute_result"
    }
   ],
   "source": [
    "# one hot encode catagorical target labels  \n",
    "train_y1 = keras.utils.to_categorical(train_y, classes)\n",
    "test_y = keras.utils.to_categorical(test_y, classes)\n",
    "train_y1"
   ]
  },
  {
   "cell_type": "markdown",
   "metadata": {
    "id": "JX4MFDvFl_ka"
   },
   "source": [
    "**Train the model and save it's weights as checkpoints**"
   ]
  },
  {
   "cell_type": "code",
   "execution_count": 36,
   "metadata": {
    "colab": {
     "base_uri": "https://localhost:8080/"
    },
    "executionInfo": {
     "elapsed": 3004420,
     "status": "ok",
     "timestamp": 1604893778896,
     "user": {
      "displayName": "Abhishek Bhagwat",
      "photoUrl": "https://lh3.googleusercontent.com/a-/AOh14Gg9PlmmIXBaYSo9I4g0o1V5ErKNm4H79fHE5-SjCw=s64",
      "userId": "03466854914645471807"
     },
     "user_tz": 300
    },
    "id": "35700bNBTDS6",
    "outputId": "9282e322-2b18-44c9-a576-509dc39c32d8"
   },
   "outputs": [
    {
     "name": "stdout",
     "output_type": "stream",
     "text": [
      "WARNING:tensorflow:`period` argument is deprecated. Please use `save_freq` to specify the frequency in number of batches seen.\n",
      "Epoch 1/100\n",
      " 2/67 [..............................] - ETA: 27s - loss: 1169.0264 - accuracy: 0.5234WARNING:tensorflow:Callbacks method `on_train_batch_end` is slow compared to the batch time (batch time: 0.0147s vs `on_train_batch_end` time: 0.4015s). Check your callbacks.\n",
      "67/67 [==============================] - 30s 450ms/step - loss: 66.0153 - accuracy: 0.7969 - val_loss: 0.7340 - val_accuracy: 0.8451\n",
      "Epoch 2/100\n",
      "67/67 [==============================] - 30s 452ms/step - loss: 0.9017 - accuracy: 0.8934 - val_loss: 0.7694 - val_accuracy: 0.8717\n",
      "Epoch 3/100\n",
      "67/67 [==============================] - 30s 446ms/step - loss: 0.7744 - accuracy: 0.9114 - val_loss: 0.7280 - val_accuracy: 0.8982\n",
      "Epoch 4/100\n",
      "67/67 [==============================] - 30s 448ms/step - loss: 0.6400 - accuracy: 0.9268 - val_loss: 0.6042 - val_accuracy: 0.8717\n",
      "Epoch 5/100\n",
      "67/67 [==============================] - 30s 447ms/step - loss: 0.5522 - accuracy: 0.9282 - val_loss: 0.9318 - val_accuracy: 0.8982\n",
      "Epoch 6/100\n",
      "67/67 [==============================] - 30s 447ms/step - loss: 0.5811 - accuracy: 0.9347 - val_loss: 0.6815 - val_accuracy: 0.8894\n",
      "Epoch 7/100\n",
      "67/67 [==============================] - 30s 448ms/step - loss: 0.5552 - accuracy: 0.9368 - val_loss: 0.9523 - val_accuracy: 0.8673\n",
      "Epoch 8/100\n",
      "67/67 [==============================] - 30s 448ms/step - loss: 0.6929 - accuracy: 0.9389 - val_loss: 0.8581 - val_accuracy: 0.9027\n",
      "Epoch 9/100\n",
      "67/67 [==============================] - 30s 448ms/step - loss: 0.6987 - accuracy: 0.9405 - val_loss: 0.7710 - val_accuracy: 0.9027\n",
      "Epoch 10/100\n",
      "67/67 [==============================] - 30s 448ms/step - loss: 0.6669 - accuracy: 0.9450 - val_loss: 0.7053 - val_accuracy: 0.8805\n",
      "Epoch 11/100\n",
      "67/67 [==============================] - 30s 448ms/step - loss: 0.5494 - accuracy: 0.9557 - val_loss: 0.8034 - val_accuracy: 0.9115\n",
      "Epoch 12/100\n",
      "67/67 [==============================] - 30s 448ms/step - loss: 0.5988 - accuracy: 0.9508 - val_loss: 1.2433 - val_accuracy: 0.9204\n",
      "Epoch 13/100\n",
      "67/67 [==============================] - 30s 448ms/step - loss: 0.5304 - accuracy: 0.9618 - val_loss: 1.0925 - val_accuracy: 0.9204\n",
      "Epoch 14/100\n",
      "67/67 [==============================] - 30s 447ms/step - loss: 0.5116 - accuracy: 0.9604 - val_loss: 1.0574 - val_accuracy: 0.9115\n",
      "Epoch 15/100\n",
      "67/67 [==============================] - 30s 448ms/step - loss: 0.3793 - accuracy: 0.9674 - val_loss: 0.9062 - val_accuracy: 0.9071\n",
      "Epoch 16/100\n",
      "67/67 [==============================] - 30s 447ms/step - loss: 0.2813 - accuracy: 0.9715 - val_loss: 0.9510 - val_accuracy: 0.9381\n",
      "Epoch 17/100\n",
      "67/67 [==============================] - 30s 447ms/step - loss: 0.6807 - accuracy: 0.9620 - val_loss: 1.1579 - val_accuracy: 0.9204\n",
      "Epoch 18/100\n",
      "67/67 [==============================] - 30s 448ms/step - loss: 0.7572 - accuracy: 0.9585 - val_loss: 1.3531 - val_accuracy: 0.8982\n",
      "Epoch 19/100\n",
      "67/67 [==============================] - 30s 448ms/step - loss: 0.7782 - accuracy: 0.9615 - val_loss: 1.2610 - val_accuracy: 0.9159\n",
      "Epoch 20/100\n",
      "67/67 [==============================] - 30s 448ms/step - loss: 1.0700 - accuracy: 0.9566 - val_loss: 1.6578 - val_accuracy: 0.9027\n",
      "Epoch 21/100\n",
      "67/67 [==============================] - 30s 446ms/step - loss: 1.2060 - accuracy: 0.9534 - val_loss: 2.6230 - val_accuracy: 0.8982\n",
      "Epoch 22/100\n",
      "67/67 [==============================] - 30s 448ms/step - loss: 1.2554 - accuracy: 0.9566 - val_loss: 2.5643 - val_accuracy: 0.9115\n",
      "Epoch 23/100\n",
      "67/67 [==============================] - 30s 448ms/step - loss: 0.8160 - accuracy: 0.9627 - val_loss: 1.8030 - val_accuracy: 0.9248\n",
      "Epoch 24/100\n",
      "67/67 [==============================] - 30s 448ms/step - loss: 1.1809 - accuracy: 0.9634 - val_loss: 1.5782 - val_accuracy: 0.9204\n",
      "Epoch 25/100\n",
      "67/67 [==============================] - 30s 448ms/step - loss: 0.9284 - accuracy: 0.9697 - val_loss: 2.6451 - val_accuracy: 0.9159\n",
      "Epoch 26/100\n",
      "67/67 [==============================] - 30s 448ms/step - loss: 0.8268 - accuracy: 0.9697 - val_loss: 2.2797 - val_accuracy: 0.9292\n",
      "Epoch 27/100\n",
      "67/67 [==============================] - 30s 449ms/step - loss: 0.8385 - accuracy: 0.9755 - val_loss: 2.6898 - val_accuracy: 0.9248\n",
      "Epoch 28/100\n",
      "67/67 [==============================] - 30s 448ms/step - loss: 1.3791 - accuracy: 0.9627 - val_loss: 1.7902 - val_accuracy: 0.9115\n",
      "Epoch 29/100\n",
      "67/67 [==============================] - 30s 448ms/step - loss: 1.1857 - accuracy: 0.9688 - val_loss: 2.7042 - val_accuracy: 0.9071\n",
      "Epoch 30/100\n",
      "67/67 [==============================] - 30s 447ms/step - loss: 1.9329 - accuracy: 0.9618 - val_loss: 3.8053 - val_accuracy: 0.9115\n",
      "Epoch 31/100\n",
      "67/67 [==============================] - 30s 448ms/step - loss: 1.4269 - accuracy: 0.9683 - val_loss: 6.2254 - val_accuracy: 0.8850\n",
      "Epoch 32/100\n",
      "67/67 [==============================] - 30s 447ms/step - loss: 1.2444 - accuracy: 0.9725 - val_loss: 2.9809 - val_accuracy: 0.9027\n",
      "Epoch 33/100\n",
      "67/67 [==============================] - 30s 448ms/step - loss: 1.5676 - accuracy: 0.9701 - val_loss: 3.5898 - val_accuracy: 0.9071\n",
      "Epoch 34/100\n",
      "67/67 [==============================] - 30s 448ms/step - loss: 0.7986 - accuracy: 0.9769 - val_loss: 4.3272 - val_accuracy: 0.9071\n",
      "Epoch 35/100\n",
      "67/67 [==============================] - 30s 447ms/step - loss: 1.2093 - accuracy: 0.9739 - val_loss: 2.2299 - val_accuracy: 0.9292\n",
      "Epoch 36/100\n",
      "67/67 [==============================] - 30s 449ms/step - loss: 0.9131 - accuracy: 0.9767 - val_loss: 3.1372 - val_accuracy: 0.9115\n",
      "Epoch 37/100\n",
      "67/67 [==============================] - 30s 448ms/step - loss: 0.5762 - accuracy: 0.9806 - val_loss: 3.7987 - val_accuracy: 0.9115\n",
      "Epoch 38/100\n",
      "67/67 [==============================] - 30s 447ms/step - loss: 0.5104 - accuracy: 0.9823 - val_loss: 3.4534 - val_accuracy: 0.9159\n",
      "Epoch 39/100\n",
      "67/67 [==============================] - 30s 448ms/step - loss: 0.5854 - accuracy: 0.9855 - val_loss: 4.1061 - val_accuracy: 0.9248\n",
      "Epoch 40/100\n",
      "67/67 [==============================] - 30s 449ms/step - loss: 0.3290 - accuracy: 0.9867 - val_loss: 3.5282 - val_accuracy: 0.9248\n",
      "Epoch 41/100\n",
      "67/67 [==============================] - 30s 447ms/step - loss: 0.3650 - accuracy: 0.9855 - val_loss: 3.5674 - val_accuracy: 0.9248\n",
      "Epoch 42/100\n",
      "67/67 [==============================] - 30s 448ms/step - loss: 0.7009 - accuracy: 0.9848 - val_loss: 4.0597 - val_accuracy: 0.9292\n",
      "Epoch 43/100\n",
      "67/67 [==============================] - 30s 449ms/step - loss: 0.5913 - accuracy: 0.9841 - val_loss: 4.7384 - val_accuracy: 0.9292\n",
      "Epoch 44/100\n",
      "67/67 [==============================] - 30s 447ms/step - loss: 0.5307 - accuracy: 0.9860 - val_loss: 2.6458 - val_accuracy: 0.9292\n",
      "Epoch 45/100\n",
      "67/67 [==============================] - 30s 447ms/step - loss: 0.5554 - accuracy: 0.9874 - val_loss: 3.2006 - val_accuracy: 0.9425\n",
      "Epoch 46/100\n",
      "67/67 [==============================] - 30s 447ms/step - loss: 0.7335 - accuracy: 0.9813 - val_loss: 3.8885 - val_accuracy: 0.9204\n",
      "Epoch 47/100\n",
      "67/67 [==============================] - 30s 448ms/step - loss: 0.7190 - accuracy: 0.9837 - val_loss: 2.6824 - val_accuracy: 0.9292\n",
      "Epoch 48/100\n",
      "67/67 [==============================] - 30s 448ms/step - loss: 0.7434 - accuracy: 0.9788 - val_loss: 2.5914 - val_accuracy: 0.9204\n",
      "Epoch 49/100\n",
      "67/67 [==============================] - 30s 448ms/step - loss: 0.8411 - accuracy: 0.9827 - val_loss: 4.4775 - val_accuracy: 0.9381\n",
      "Epoch 50/100\n",
      "67/67 [==============================] - 30s 448ms/step - loss: 0.7354 - accuracy: 0.9827 - val_loss: 3.9740 - val_accuracy: 0.9292\n",
      "Epoch 51/100\n",
      "67/67 [==============================] - 30s 447ms/step - loss: 0.3389 - accuracy: 0.9876 - val_loss: 2.8028 - val_accuracy: 0.9115\n",
      "Epoch 52/100\n",
      "67/67 [==============================] - 30s 447ms/step - loss: 0.3266 - accuracy: 0.9862 - val_loss: 3.3245 - val_accuracy: 0.9336\n",
      "Epoch 53/100\n",
      "67/67 [==============================] - 30s 447ms/step - loss: 0.4922 - accuracy: 0.9851 - val_loss: 4.1002 - val_accuracy: 0.9204\n",
      "Epoch 54/100\n",
      "67/67 [==============================] - 30s 448ms/step - loss: 0.8487 - accuracy: 0.9827 - val_loss: 4.5793 - val_accuracy: 0.9159\n",
      "Epoch 55/100\n",
      "67/67 [==============================] - 30s 448ms/step - loss: 0.8370 - accuracy: 0.9837 - val_loss: 6.9872 - val_accuracy: 0.9115\n",
      "Epoch 56/100\n",
      "67/67 [==============================] - 30s 447ms/step - loss: 0.5538 - accuracy: 0.9839 - val_loss: 6.3081 - val_accuracy: 0.9159\n",
      "Epoch 57/100\n",
      "67/67 [==============================] - 30s 448ms/step - loss: 0.9468 - accuracy: 0.9816 - val_loss: 5.0961 - val_accuracy: 0.9204\n",
      "Epoch 58/100\n",
      "67/67 [==============================] - 30s 448ms/step - loss: 0.5955 - accuracy: 0.9844 - val_loss: 5.2501 - val_accuracy: 0.9248\n",
      "Epoch 59/100\n",
      "67/67 [==============================] - 30s 448ms/step - loss: 1.0294 - accuracy: 0.9818 - val_loss: 6.3433 - val_accuracy: 0.9204\n",
      "Epoch 60/100\n",
      "67/67 [==============================] - 30s 449ms/step - loss: 1.7225 - accuracy: 0.9799 - val_loss: 7.0988 - val_accuracy: 0.9204\n",
      "Epoch 61/100\n",
      "67/67 [==============================] - 30s 448ms/step - loss: 1.1037 - accuracy: 0.9820 - val_loss: 8.0121 - val_accuracy: 0.9248\n",
      "Epoch 62/100\n",
      "67/67 [==============================] - 30s 447ms/step - loss: 1.5877 - accuracy: 0.9832 - val_loss: 5.2369 - val_accuracy: 0.9292\n",
      "Epoch 63/100\n",
      "67/67 [==============================] - 30s 448ms/step - loss: 1.2066 - accuracy: 0.9811 - val_loss: 7.3976 - val_accuracy: 0.9204\n",
      "Epoch 64/100\n",
      "67/67 [==============================] - 30s 448ms/step - loss: 1.1141 - accuracy: 0.9820 - val_loss: 4.1413 - val_accuracy: 0.9336\n",
      "Epoch 65/100\n",
      "67/67 [==============================] - 30s 447ms/step - loss: 1.3265 - accuracy: 0.9806 - val_loss: 8.3403 - val_accuracy: 0.9159\n",
      "Epoch 66/100\n",
      "67/67 [==============================] - 30s 448ms/step - loss: 2.2950 - accuracy: 0.9797 - val_loss: 8.6738 - val_accuracy: 0.9115\n",
      "Epoch 67/100\n",
      "67/67 [==============================] - 30s 449ms/step - loss: 1.6322 - accuracy: 0.9820 - val_loss: 6.4129 - val_accuracy: 0.9292\n",
      "Epoch 68/100\n",
      "67/67 [==============================] - 30s 449ms/step - loss: 0.9049 - accuracy: 0.9853 - val_loss: 8.4706 - val_accuracy: 0.9292\n",
      "Epoch 69/100\n",
      "67/67 [==============================] - 30s 448ms/step - loss: 1.2129 - accuracy: 0.9855 - val_loss: 8.8401 - val_accuracy: 0.9115\n",
      "Epoch 70/100\n",
      "67/67 [==============================] - 30s 448ms/step - loss: 0.9096 - accuracy: 0.9851 - val_loss: 5.1986 - val_accuracy: 0.9248\n",
      "Epoch 71/100\n",
      "67/67 [==============================] - 30s 449ms/step - loss: 1.1714 - accuracy: 0.9886 - val_loss: 6.9771 - val_accuracy: 0.9336\n",
      "Epoch 72/100\n",
      "67/67 [==============================] - 30s 448ms/step - loss: 0.7932 - accuracy: 0.9897 - val_loss: 6.3928 - val_accuracy: 0.9292\n",
      "Epoch 73/100\n",
      "67/67 [==============================] - 30s 448ms/step - loss: 0.7622 - accuracy: 0.9881 - val_loss: 5.4420 - val_accuracy: 0.9381\n",
      "Epoch 74/100\n",
      "67/67 [==============================] - 30s 447ms/step - loss: 0.3721 - accuracy: 0.9921 - val_loss: 8.4209 - val_accuracy: 0.9159\n",
      "Epoch 75/100\n",
      "67/67 [==============================] - 30s 448ms/step - loss: 0.5084 - accuracy: 0.9930 - val_loss: 10.3344 - val_accuracy: 0.9381\n",
      "Epoch 76/100\n",
      "67/67 [==============================] - 30s 448ms/step - loss: 1.2389 - accuracy: 0.9869 - val_loss: 8.8367 - val_accuracy: 0.9248\n",
      "Epoch 77/100\n",
      "67/67 [==============================] - 30s 447ms/step - loss: 0.6102 - accuracy: 0.9900 - val_loss: 7.4034 - val_accuracy: 0.9204\n",
      "Epoch 78/100\n",
      "67/67 [==============================] - 30s 447ms/step - loss: 0.5549 - accuracy: 0.9916 - val_loss: 4.4907 - val_accuracy: 0.9292\n",
      "Epoch 79/100\n",
      "67/67 [==============================] - 30s 448ms/step - loss: 0.4131 - accuracy: 0.9914 - val_loss: 5.7703 - val_accuracy: 0.9248\n",
      "Epoch 80/100\n",
      "67/67 [==============================] - 30s 447ms/step - loss: 0.5471 - accuracy: 0.9902 - val_loss: 7.1418 - val_accuracy: 0.9292\n",
      "Epoch 81/100\n",
      "67/67 [==============================] - 30s 447ms/step - loss: 0.5871 - accuracy: 0.9900 - val_loss: 11.0517 - val_accuracy: 0.9336\n",
      "Epoch 82/100\n",
      "67/67 [==============================] - 30s 447ms/step - loss: 0.7427 - accuracy: 0.9895 - val_loss: 10.7225 - val_accuracy: 0.9292\n",
      "Epoch 83/100\n",
      "67/67 [==============================] - 30s 447ms/step - loss: 0.6777 - accuracy: 0.9895 - val_loss: 8.1528 - val_accuracy: 0.9336\n",
      "Epoch 84/100\n",
      "67/67 [==============================] - 30s 448ms/step - loss: 0.6220 - accuracy: 0.9911 - val_loss: 7.2609 - val_accuracy: 0.9336\n",
      "Epoch 85/100\n",
      "67/67 [==============================] - 30s 448ms/step - loss: 0.5454 - accuracy: 0.9916 - val_loss: 8.1846 - val_accuracy: 0.9381\n",
      "Epoch 86/100\n",
      "67/67 [==============================] - 30s 448ms/step - loss: 0.8636 - accuracy: 0.9907 - val_loss: 8.8328 - val_accuracy: 0.9204\n",
      "Epoch 87/100\n",
      "67/67 [==============================] - 30s 448ms/step - loss: 0.4248 - accuracy: 0.9923 - val_loss: 6.5013 - val_accuracy: 0.9204\n",
      "Epoch 88/100\n",
      "67/67 [==============================] - 30s 449ms/step - loss: 0.5422 - accuracy: 0.9923 - val_loss: 10.7505 - val_accuracy: 0.9336\n",
      "Epoch 89/100\n",
      "67/67 [==============================] - 30s 448ms/step - loss: 0.7919 - accuracy: 0.9897 - val_loss: 10.2355 - val_accuracy: 0.9204\n",
      "Epoch 90/100\n",
      "67/67 [==============================] - 30s 448ms/step - loss: 1.3422 - accuracy: 0.9881 - val_loss: 6.0834 - val_accuracy: 0.9159\n",
      "Epoch 91/100\n",
      "67/67 [==============================] - 30s 447ms/step - loss: 0.6080 - accuracy: 0.9897 - val_loss: 8.2308 - val_accuracy: 0.9204\n",
      "Epoch 92/100\n",
      "67/67 [==============================] - 30s 449ms/step - loss: 0.5881 - accuracy: 0.9895 - val_loss: 10.8421 - val_accuracy: 0.9248\n",
      "Epoch 93/100\n",
      "67/67 [==============================] - 30s 448ms/step - loss: 1.1527 - accuracy: 0.9869 - val_loss: 7.2669 - val_accuracy: 0.9248\n",
      "Epoch 94/100\n",
      "67/67 [==============================] - 30s 448ms/step - loss: 0.6209 - accuracy: 0.9890 - val_loss: 7.2900 - val_accuracy: 0.9248\n",
      "Epoch 95/100\n",
      "67/67 [==============================] - 30s 448ms/step - loss: 0.6604 - accuracy: 0.9900 - val_loss: 7.9375 - val_accuracy: 0.9292\n",
      "Epoch 96/100\n",
      "67/67 [==============================] - 30s 448ms/step - loss: 0.5881 - accuracy: 0.9895 - val_loss: 8.7288 - val_accuracy: 0.9292\n",
      "Epoch 97/100\n",
      "67/67 [==============================] - 30s 447ms/step - loss: 0.4735 - accuracy: 0.9893 - val_loss: 8.2758 - val_accuracy: 0.9292\n",
      "Epoch 98/100\n",
      "67/67 [==============================] - 30s 447ms/step - loss: 0.7352 - accuracy: 0.9930 - val_loss: 9.4725 - val_accuracy: 0.9292\n",
      "Epoch 99/100\n",
      "67/67 [==============================] - 30s 448ms/step - loss: 0.5601 - accuracy: 0.9918 - val_loss: 6.8349 - val_accuracy: 0.9292\n",
      "Epoch 100/100\n",
      "67/67 [==============================] - 30s 449ms/step - loss: 0.4599 - accuracy: 0.9911 - val_loss: 8.0243 - val_accuracy: 0.9292\n"
     ]
    }
   ],
   "source": [
    "#checkpoint = keras.callbacks.ModelCheckpoint('/content/drive/My Drive/Age_Prediction/FinalCheckpoint{epoch:08d}.h5', period=50) \n",
    "#model.fit(X_train, Y_train, callbacks=[checkpoint])\n",
    "#callbacks=[checkpoint]\n",
    "\n",
    "final_model=gender_model.fit(\n",
    "            train_x, train_y1\n",
    "            , epochs= 100\n",
    "            , validation_data=(test_x, test_y)\n",
    "            , batch_size = 64\n",
    "            \n",
    "        )\n"
   ]
  },
  {
   "cell_type": "code",
   "execution_count": 38,
   "metadata": {
    "executionInfo": {
     "elapsed": 2549,
     "status": "ok",
     "timestamp": 1604893917537,
     "user": {
      "displayName": "Abhishek Bhagwat",
      "photoUrl": "https://lh3.googleusercontent.com/a-/AOh14Gg9PlmmIXBaYSo9I4g0o1V5ErKNm4H79fHE5-SjCw=s64",
      "userId": "03466854914645471807"
     },
     "user_tz": 300
    },
    "id": "BJQvljm6QIAl"
   },
   "outputs": [],
   "source": [
    "# Saving the Final Model weights  \n",
    "gender_model.save_weights('/content/drive/My Drive/Age_Prediction/Final_Model.h5')"
   ]
  },
  {
   "cell_type": "code",
   "execution_count": 40,
   "metadata": {
    "executionInfo": {
     "elapsed": 11313,
     "status": "ok",
     "timestamp": 1604894481838,
     "user": {
      "displayName": "Abhishek Bhagwat",
      "photoUrl": "https://lh3.googleusercontent.com/a-/AOh14Gg9PlmmIXBaYSo9I4g0o1V5ErKNm4H79fHE5-SjCw=s64",
      "userId": "03466854914645471807"
     },
     "user_tz": 300
    },
    "id": "nvuxOzibJxZ0"
   },
   "outputs": [],
   "source": [
    "#Saving final model architecture and weights in one file\n",
    "gender_model.save('/content/drive/My Drive/Age_Prediction/VGG_Architecture.h5')"
   ]
  },
  {
   "cell_type": "markdown",
   "metadata": {
    "id": "WbfrEx2Nmc9E"
   },
   "source": [
    "**Model Evaluation**"
   ]
  },
  {
   "cell_type": "code",
   "execution_count": 41,
   "metadata": {
    "colab": {
     "base_uri": "https://localhost:8080/"
    },
    "executionInfo": {
     "elapsed": 1743,
     "status": "ok",
     "timestamp": 1604894522646,
     "user": {
      "displayName": "Abhishek Bhagwat",
      "photoUrl": "https://lh3.googleusercontent.com/a-/AOh14Gg9PlmmIXBaYSo9I4g0o1V5ErKNm4H79fHE5-SjCw=s64",
      "userId": "03466854914645471807"
     },
     "user_tz": 300
    },
    "id": "R6N3P6sEbO3t",
    "outputId": "1d71c400-b2a9-44e5-bd7f-60ab7ab7f2cf"
   },
   "outputs": [
    {
     "name": "stdout",
     "output_type": "stream",
     "text": [
      "4/4 - 1s - loss: 8.0243 - accuracy: 0.9292\n",
      "Validation Loss: 8.02\n",
      "Validation Accuracy: 0.93\n"
     ]
    }
   ],
   "source": [
    "loss,acc = gender_model.evaluate(test_x, test_y, verbose = 2, batch_size = 64)\n",
    "print(\"Validation Loss: %.2f\" % (loss))\n",
    "print(\"Validation Accuracy: %.2f\" % (acc))"
   ]
  },
  {
   "cell_type": "code",
   "execution_count": 42,
   "metadata": {
    "colab": {
     "base_uri": "https://localhost:8080/",
     "height": 295
    },
    "executionInfo": {
     "elapsed": 565,
     "status": "ok",
     "timestamp": 1604894527547,
     "user": {
      "displayName": "Abhishek Bhagwat",
      "photoUrl": "https://lh3.googleusercontent.com/a-/AOh14Gg9PlmmIXBaYSo9I4g0o1V5ErKNm4H79fHE5-SjCw=s64",
      "userId": "03466854914645471807"
     },
     "user_tz": 300
    },
    "id": "Wmjpx-MfbeYL",
    "outputId": "0e101132-9f79-4b35-f69d-8bc18cb0ecb1"
   },
   "outputs": [
    {
     "data": {
      "image/png": "[encoded data removed]",
      "text/plain": [
       "<Figure size 432x288 with 1 Axes>"
      ]
     },
     "metadata": {
      "needs_background": "light",
      "tags": []
     },
     "output_type": "display_data"
    }
   ],
   "source": [
    "# plotting accuracy vs epochs \n",
    "import matplotlib.pyplot as plt\n",
    "%matplotlib inline\n",
    "# summarize history for accuracy\n",
    "plt.plot(final_model.history['accuracy'])\n",
    "plt.plot(final_model.history['val_accuracy'])\n",
    "plt.title('model accuracy')\n",
    "plt.ylabel('accuracy')\n",
    "plt.xlabel('epoch')\n",
    "plt.legend(['train', 'test'], loc='upper left')\n",
    "plt.show()"
   ]
  },
  {
   "cell_type": "code",
   "execution_count": 43,
   "metadata": {
    "colab": {
     "base_uri": "https://localhost:8080/",
     "height": 295
    },
    "executionInfo": {
     "elapsed": 470,
     "status": "ok",
     "timestamp": 1604894531884,
     "user": {
      "displayName": "Abhishek Bhagwat",
      "photoUrl": "https://lh3.googleusercontent.com/a-/AOh14Gg9PlmmIXBaYSo9I4g0o1V5ErKNm4H79fHE5-SjCw=s64",
      "userId": "03466854914645471807"
     },
     "user_tz": 300
    },
    "id": "bYZbN1kCb9tT",
    "outputId": "3afb9baf-9eab-41ec-9c74-d3affbb57f75"
   },
   "outputs": [
    {
     "data": {
      "image/png": "[encoded data removed]",
      "text/plain": [
       "<Figure size 432x288 with 1 Axes>"
      ]
     },
     "metadata": {
      "needs_background": "light",
      "tags": []
     },
     "output_type": "display_data"
    }
   ],
   "source": [
    "#Plotting loss vs epochs \n",
    "plt.plot(final_model.history['loss'])\n",
    "plt.plot(final_model.history['val_loss'])\n",
    "plt.title('model loss')\n",
    "plt.ylabel('loss')\n",
    "plt.xlabel('epoch')\n",
    "plt.legend(['train', 'test'], loc='upper left')\n",
    "plt.show()"
   ]
  },
  {
   "cell_type": "markdown",
   "metadata": {
    "id": "OpvC5DEzg5-1"
   },
   "source": [
    "**Inference**\n",
    "\n",
    "We have obtained a validation accuracy of 93 percent and validation loss of 8.02. For 100 epochs we can observe that the loss and accuracy for both training and validation are following similar trends. The difference between the training and validation results is also not very significant for the model to be overfitting. In future, we can try to improve the model performance by changing the network hyperparameters, training for more epochs, using more data, and using data augumentation techniques."
   ]
  }
 ],
 "metadata": {
  "accelerator": "GPU",
  "colab": {
   "collapsed_sections": [],
   "name": "VGG_Train.ipynb",
   "provenance": [
    {
     "file_id": "1FkiDYuIVhSjIuMOdrYKeNXKrXnIhnWdE",
     "timestamp": 1604866113695
    },
    {
     "file_id": "1gC5JJjZAyQrWy_JAWIifGmN2mYQovd8K",
     "timestamp": 1604862587227
    }
   ]
  },
  "kernelspec": {
   "display_name": "Python 3",
   "language": "python",
   "name": "python3"
  },
  "language_info": {
   "codemirror_mode": {
    "name": "ipython",
    "version": 3
   },
   "file_extension": ".py",
   "mimetype": "text/x-python",
   "name": "python",
   "nbconvert_exporter": "python",
   "pygments_lexer": "ipython3",
   "version": "3.6.7"
  }
 },
 "nbformat": 4,
 "nbformat_minor": 1
}
